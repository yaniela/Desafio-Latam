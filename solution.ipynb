{
 "cells": [
  {
   "cell_type": "markdown",
   "metadata": {},
   "source": [
    "# Desafio LATAM\n",
    "\n",
    "El problema consiste en predecir la probabilidad de atraso de los vuelos que aterrizan o despegan del aeropuerto de Santiago de Chile (SCL). Para eso se entrega un dataset usando datos públicos y reales donde cada fila corresponde a un vuelo que\n",
    "aterrizó o despegó de SCL.\n",
    "\n",
    "## Análisis del dataset\n",
    "\n",
    "El dataset se encuentra en el fichero *dataset_SCL.csv*, y a continuación se realiza una primera vista del mismo con las primeras cinco observaciones.\n"
   ]
  },
  {
   "cell_type": "code",
   "execution_count": 1,
   "metadata": {},
   "outputs": [
    {
     "data": {
      "text/html": [
       "<div>\n",
       "<style scoped>\n",
       "    .dataframe tbody tr th:only-of-type {\n",
       "        vertical-align: middle;\n",
       "    }\n",
       "\n",
       "    .dataframe tbody tr th {\n",
       "        vertical-align: top;\n",
       "    }\n",
       "\n",
       "    .dataframe thead th {\n",
       "        text-align: right;\n",
       "    }\n",
       "</style>\n",
       "<table border=\"1\" class=\"dataframe\">\n",
       "  <thead>\n",
       "    <tr style=\"text-align: right;\">\n",
       "      <th></th>\n",
       "      <th>Fecha-I</th>\n",
       "      <th>Vlo-I</th>\n",
       "      <th>Ori-I</th>\n",
       "      <th>Des-I</th>\n",
       "      <th>Emp-I</th>\n",
       "      <th>Fecha-O</th>\n",
       "      <th>Vlo-O</th>\n",
       "      <th>Ori-O</th>\n",
       "      <th>Des-O</th>\n",
       "      <th>Emp-O</th>\n",
       "      <th>DIA</th>\n",
       "      <th>MES</th>\n",
       "      <th>AÑO</th>\n",
       "      <th>DIANOM</th>\n",
       "      <th>TIPOVUELO</th>\n",
       "      <th>OPERA</th>\n",
       "      <th>SIGLAORI</th>\n",
       "      <th>SIGLADES</th>\n",
       "    </tr>\n",
       "  </thead>\n",
       "  <tbody>\n",
       "    <tr>\n",
       "      <th>0</th>\n",
       "      <td>2017-01-01 23:30:00</td>\n",
       "      <td>226</td>\n",
       "      <td>SCEL</td>\n",
       "      <td>KMIA</td>\n",
       "      <td>AAL</td>\n",
       "      <td>2017-01-01 23:33:00</td>\n",
       "      <td>226</td>\n",
       "      <td>SCEL</td>\n",
       "      <td>KMIA</td>\n",
       "      <td>AAL</td>\n",
       "      <td>1</td>\n",
       "      <td>1</td>\n",
       "      <td>2017</td>\n",
       "      <td>Domingo</td>\n",
       "      <td>I</td>\n",
       "      <td>American Airlines</td>\n",
       "      <td>Santiago</td>\n",
       "      <td>Miami</td>\n",
       "    </tr>\n",
       "    <tr>\n",
       "      <th>1</th>\n",
       "      <td>2017-01-02 23:30:00</td>\n",
       "      <td>226</td>\n",
       "      <td>SCEL</td>\n",
       "      <td>KMIA</td>\n",
       "      <td>AAL</td>\n",
       "      <td>2017-01-02 23:39:00</td>\n",
       "      <td>226</td>\n",
       "      <td>SCEL</td>\n",
       "      <td>KMIA</td>\n",
       "      <td>AAL</td>\n",
       "      <td>2</td>\n",
       "      <td>1</td>\n",
       "      <td>2017</td>\n",
       "      <td>Lunes</td>\n",
       "      <td>I</td>\n",
       "      <td>American Airlines</td>\n",
       "      <td>Santiago</td>\n",
       "      <td>Miami</td>\n",
       "    </tr>\n",
       "    <tr>\n",
       "      <th>2</th>\n",
       "      <td>2017-01-03 23:30:00</td>\n",
       "      <td>226</td>\n",
       "      <td>SCEL</td>\n",
       "      <td>KMIA</td>\n",
       "      <td>AAL</td>\n",
       "      <td>2017-01-03 23:39:00</td>\n",
       "      <td>226</td>\n",
       "      <td>SCEL</td>\n",
       "      <td>KMIA</td>\n",
       "      <td>AAL</td>\n",
       "      <td>3</td>\n",
       "      <td>1</td>\n",
       "      <td>2017</td>\n",
       "      <td>Martes</td>\n",
       "      <td>I</td>\n",
       "      <td>American Airlines</td>\n",
       "      <td>Santiago</td>\n",
       "      <td>Miami</td>\n",
       "    </tr>\n",
       "    <tr>\n",
       "      <th>3</th>\n",
       "      <td>2017-01-04 23:30:00</td>\n",
       "      <td>226</td>\n",
       "      <td>SCEL</td>\n",
       "      <td>KMIA</td>\n",
       "      <td>AAL</td>\n",
       "      <td>2017-01-04 23:33:00</td>\n",
       "      <td>226</td>\n",
       "      <td>SCEL</td>\n",
       "      <td>KMIA</td>\n",
       "      <td>AAL</td>\n",
       "      <td>4</td>\n",
       "      <td>1</td>\n",
       "      <td>2017</td>\n",
       "      <td>Miercoles</td>\n",
       "      <td>I</td>\n",
       "      <td>American Airlines</td>\n",
       "      <td>Santiago</td>\n",
       "      <td>Miami</td>\n",
       "    </tr>\n",
       "    <tr>\n",
       "      <th>4</th>\n",
       "      <td>2017-01-05 23:30:00</td>\n",
       "      <td>226</td>\n",
       "      <td>SCEL</td>\n",
       "      <td>KMIA</td>\n",
       "      <td>AAL</td>\n",
       "      <td>2017-01-05 23:28:00</td>\n",
       "      <td>226</td>\n",
       "      <td>SCEL</td>\n",
       "      <td>KMIA</td>\n",
       "      <td>AAL</td>\n",
       "      <td>5</td>\n",
       "      <td>1</td>\n",
       "      <td>2017</td>\n",
       "      <td>Jueves</td>\n",
       "      <td>I</td>\n",
       "      <td>American Airlines</td>\n",
       "      <td>Santiago</td>\n",
       "      <td>Miami</td>\n",
       "    </tr>\n",
       "  </tbody>\n",
       "</table>\n",
       "</div>"
      ],
      "text/plain": [
       "               Fecha-I Vlo-I Ori-I Des-I Emp-I              Fecha-O Vlo-O  \\\n",
       "0  2017-01-01 23:30:00   226  SCEL  KMIA   AAL  2017-01-01 23:33:00   226   \n",
       "1  2017-01-02 23:30:00   226  SCEL  KMIA   AAL  2017-01-02 23:39:00   226   \n",
       "2  2017-01-03 23:30:00   226  SCEL  KMIA   AAL  2017-01-03 23:39:00   226   \n",
       "3  2017-01-04 23:30:00   226  SCEL  KMIA   AAL  2017-01-04 23:33:00   226   \n",
       "4  2017-01-05 23:30:00   226  SCEL  KMIA   AAL  2017-01-05 23:28:00   226   \n",
       "\n",
       "  Ori-O Des-O Emp-O  DIA  MES   AÑO     DIANOM TIPOVUELO              OPERA  \\\n",
       "0  SCEL  KMIA   AAL    1    1  2017    Domingo         I  American Airlines   \n",
       "1  SCEL  KMIA   AAL    2    1  2017      Lunes         I  American Airlines   \n",
       "2  SCEL  KMIA   AAL    3    1  2017     Martes         I  American Airlines   \n",
       "3  SCEL  KMIA   AAL    4    1  2017  Miercoles         I  American Airlines   \n",
       "4  SCEL  KMIA   AAL    5    1  2017     Jueves         I  American Airlines   \n",
       "\n",
       "   SIGLAORI SIGLADES  \n",
       "0  Santiago    Miami  \n",
       "1  Santiago    Miami  \n",
       "2  Santiago    Miami  \n",
       "3  Santiago    Miami  \n",
       "4  Santiago    Miami  "
      ]
     },
     "execution_count": 1,
     "metadata": {},
     "output_type": "execute_result"
    }
   ],
   "source": [
    "import pandas as pd\n",
    "import matplotlib.pyplot as plt\n",
    "import numpy as np\n",
    "from pandas_profiling import ProfileReport\n",
    "import warnings\n",
    "warnings.filterwarnings('ignore')\n",
    "\n",
    "data=pd.read_csv('dataset_SCL.csv')\n",
    "data.head()\n"
   ]
  },
  {
   "cell_type": "markdown",
   "metadata": {},
   "source": [
    "El dataset contiene 18 variables con 68206 observaciones, y el tipo de datos de las variables se observa en la salida de los códigos siguentes."
   ]
  },
  {
   "cell_type": "code",
   "execution_count": 2,
   "metadata": {},
   "outputs": [
    {
     "data": {
      "text/plain": [
       "(68206, 18)"
      ]
     },
     "execution_count": 2,
     "metadata": {},
     "output_type": "execute_result"
    }
   ],
   "source": [
    "data.shape"
   ]
  },
  {
   "cell_type": "code",
   "execution_count": 3,
   "metadata": {},
   "outputs": [
    {
     "data": {
      "text/plain": [
       "Fecha-I      object\n",
       "Vlo-I        object\n",
       "Ori-I        object\n",
       "Des-I        object\n",
       "Emp-I        object\n",
       "Fecha-O      object\n",
       "Vlo-O        object\n",
       "Ori-O        object\n",
       "Des-O        object\n",
       "Emp-O        object\n",
       "DIA           int64\n",
       "MES           int64\n",
       "AÑO           int64\n",
       "DIANOM       object\n",
       "TIPOVUELO    object\n",
       "OPERA        object\n",
       "SIGLAORI     object\n",
       "SIGLADES     object\n",
       "dtype: object"
      ]
     },
     "execution_count": 3,
     "metadata": {},
     "output_type": "execute_result"
    }
   ],
   "source": [
    "data.dtypes"
   ]
  },
  {
   "cell_type": "markdown",
   "metadata": {},
   "source": [
    "## Punto 1 \n",
    "¿Cómo se distribuyen los datos? ¿Qué te llama la atención o cuál es tu conclusión sobre esto?\n",
    "\n",
    "Vamos a revisar si existen valores NaN, luego a convertir a datetime las fechas, y a entero el numero de vuelo. El resto de las variables se puede quedar con el tipo que le asigna pandas. "
   ]
  },
  {
   "cell_type": "code",
   "execution_count": 4,
   "metadata": {},
   "outputs": [
    {
     "data": {
      "text/html": [
       "<div>\n",
       "<style scoped>\n",
       "    .dataframe tbody tr th:only-of-type {\n",
       "        vertical-align: middle;\n",
       "    }\n",
       "\n",
       "    .dataframe tbody tr th {\n",
       "        vertical-align: top;\n",
       "    }\n",
       "\n",
       "    .dataframe thead th {\n",
       "        text-align: right;\n",
       "    }\n",
       "</style>\n",
       "<table border=\"1\" class=\"dataframe\">\n",
       "  <thead>\n",
       "    <tr style=\"text-align: right;\">\n",
       "      <th></th>\n",
       "      <th>Fecha-I</th>\n",
       "      <th>Vlo-I</th>\n",
       "      <th>Ori-I</th>\n",
       "      <th>Des-I</th>\n",
       "      <th>Emp-I</th>\n",
       "      <th>Fecha-O</th>\n",
       "      <th>Vlo-O</th>\n",
       "      <th>Ori-O</th>\n",
       "      <th>Des-O</th>\n",
       "      <th>Emp-O</th>\n",
       "      <th>DIA</th>\n",
       "      <th>MES</th>\n",
       "      <th>AÑO</th>\n",
       "      <th>DIANOM</th>\n",
       "      <th>TIPOVUELO</th>\n",
       "      <th>OPERA</th>\n",
       "      <th>SIGLAORI</th>\n",
       "      <th>SIGLADES</th>\n",
       "    </tr>\n",
       "  </thead>\n",
       "  <tbody>\n",
       "    <tr>\n",
       "      <th>6068</th>\n",
       "      <td>2017-01-19 11:00:00</td>\n",
       "      <td>200</td>\n",
       "      <td>SCEL</td>\n",
       "      <td>SPJC</td>\n",
       "      <td>LAW</td>\n",
       "      <td>2017-01-19 11:03:00</td>\n",
       "      <td>NaN</td>\n",
       "      <td>SCEL</td>\n",
       "      <td>SPJC</td>\n",
       "      <td>56R</td>\n",
       "      <td>19</td>\n",
       "      <td>1</td>\n",
       "      <td>2017</td>\n",
       "      <td>Jueves</td>\n",
       "      <td>I</td>\n",
       "      <td>Latin American Wings</td>\n",
       "      <td>Santiago</td>\n",
       "      <td>Lima</td>\n",
       "    </tr>\n",
       "  </tbody>\n",
       "</table>\n",
       "</div>"
      ],
      "text/plain": [
       "                  Fecha-I Vlo-I Ori-I Des-I Emp-I              Fecha-O Vlo-O  \\\n",
       "6068  2017-01-19 11:00:00   200  SCEL  SPJC   LAW  2017-01-19 11:03:00   NaN   \n",
       "\n",
       "     Ori-O Des-O Emp-O  DIA  MES   AÑO  DIANOM TIPOVUELO  \\\n",
       "6068  SCEL  SPJC   56R   19    1  2017  Jueves         I   \n",
       "\n",
       "                     OPERA  SIGLAORI SIGLADES  \n",
       "6068  Latin American Wings  Santiago     Lima  "
      ]
     },
     "execution_count": 4,
     "metadata": {},
     "output_type": "execute_result"
    }
   ],
   "source": [
    "\n",
    "data[data.isna().any(axis=1)]\n"
   ]
  },
  {
   "cell_type": "markdown",
   "metadata": {},
   "source": [
    "Se observa que el número de vuelo en operación falta, por tanto le agrego el mismo que fue programado.  "
   ]
  },
  {
   "cell_type": "code",
   "execution_count": 5,
   "metadata": {},
   "outputs": [
    {
     "data": {
      "text/html": [
       "<div>\n",
       "<style scoped>\n",
       "    .dataframe tbody tr th:only-of-type {\n",
       "        vertical-align: middle;\n",
       "    }\n",
       "\n",
       "    .dataframe tbody tr th {\n",
       "        vertical-align: top;\n",
       "    }\n",
       "\n",
       "    .dataframe thead th {\n",
       "        text-align: right;\n",
       "    }\n",
       "</style>\n",
       "<table border=\"1\" class=\"dataframe\">\n",
       "  <thead>\n",
       "    <tr style=\"text-align: right;\">\n",
       "      <th></th>\n",
       "      <th>Fecha-I</th>\n",
       "      <th>Vlo-I</th>\n",
       "      <th>Ori-I</th>\n",
       "      <th>Des-I</th>\n",
       "      <th>Emp-I</th>\n",
       "      <th>Fecha-O</th>\n",
       "      <th>Vlo-O</th>\n",
       "      <th>Ori-O</th>\n",
       "      <th>Des-O</th>\n",
       "      <th>Emp-O</th>\n",
       "      <th>DIA</th>\n",
       "      <th>MES</th>\n",
       "      <th>AÑO</th>\n",
       "      <th>DIANOM</th>\n",
       "      <th>TIPOVUELO</th>\n",
       "      <th>OPERA</th>\n",
       "      <th>SIGLAORI</th>\n",
       "      <th>SIGLADES</th>\n",
       "    </tr>\n",
       "  </thead>\n",
       "  <tbody>\n",
       "    <tr>\n",
       "      <th>6068</th>\n",
       "      <td>2017-01-19 11:00:00</td>\n",
       "      <td>200</td>\n",
       "      <td>SCEL</td>\n",
       "      <td>SPJC</td>\n",
       "      <td>LAW</td>\n",
       "      <td>2017-01-19 11:03:00</td>\n",
       "      <td>200</td>\n",
       "      <td>SCEL</td>\n",
       "      <td>SPJC</td>\n",
       "      <td>56R</td>\n",
       "      <td>19</td>\n",
       "      <td>1</td>\n",
       "      <td>2017</td>\n",
       "      <td>Jueves</td>\n",
       "      <td>I</td>\n",
       "      <td>Latin American Wings</td>\n",
       "      <td>Santiago</td>\n",
       "      <td>Lima</td>\n",
       "    </tr>\n",
       "  </tbody>\n",
       "</table>\n",
       "</div>"
      ],
      "text/plain": [
       "                  Fecha-I Vlo-I Ori-I Des-I Emp-I              Fecha-O Vlo-O  \\\n",
       "6068  2017-01-19 11:00:00   200  SCEL  SPJC   LAW  2017-01-19 11:03:00   200   \n",
       "\n",
       "     Ori-O Des-O Emp-O  DIA  MES   AÑO  DIANOM TIPOVUELO  \\\n",
       "6068  SCEL  SPJC   56R   19    1  2017  Jueves         I   \n",
       "\n",
       "                     OPERA  SIGLAORI SIGLADES  \n",
       "6068  Latin American Wings  Santiago     Lima  "
      ]
     },
     "execution_count": 5,
     "metadata": {},
     "output_type": "execute_result"
    }
   ],
   "source": [
    "data.loc[6068,'Vlo-O']=\"200\"\n",
    "data.iloc[[6068]]"
   ]
  },
  {
   "cell_type": "markdown",
   "metadata": {},
   "source": [
    "Vamos a convertir las variables Vlo-I y Vlo-O a entero, para ello observo si existe algún error que me impida realizar la conversión."
   ]
  },
  {
   "cell_type": "code",
   "execution_count": 6,
   "metadata": {},
   "outputs": [
    {
     "data": {
      "text/html": [
       "<div>\n",
       "<style scoped>\n",
       "    .dataframe tbody tr th:only-of-type {\n",
       "        vertical-align: middle;\n",
       "    }\n",
       "\n",
       "    .dataframe tbody tr th {\n",
       "        vertical-align: top;\n",
       "    }\n",
       "\n",
       "    .dataframe thead th {\n",
       "        text-align: right;\n",
       "    }\n",
       "</style>\n",
       "<table border=\"1\" class=\"dataframe\">\n",
       "  <thead>\n",
       "    <tr style=\"text-align: right;\">\n",
       "      <th></th>\n",
       "      <th>Fecha-I</th>\n",
       "      <th>Vlo-I</th>\n",
       "      <th>Ori-I</th>\n",
       "      <th>Des-I</th>\n",
       "      <th>Emp-I</th>\n",
       "      <th>Fecha-O</th>\n",
       "      <th>Vlo-O</th>\n",
       "      <th>Ori-O</th>\n",
       "      <th>Des-O</th>\n",
       "      <th>Emp-O</th>\n",
       "      <th>DIA</th>\n",
       "      <th>MES</th>\n",
       "      <th>AÑO</th>\n",
       "      <th>DIANOM</th>\n",
       "      <th>TIPOVUELO</th>\n",
       "      <th>OPERA</th>\n",
       "      <th>SIGLAORI</th>\n",
       "      <th>SIGLADES</th>\n",
       "    </tr>\n",
       "  </thead>\n",
       "  <tbody>\n",
       "    <tr>\n",
       "      <th>13906</th>\n",
       "      <td>2017-03-30 10:30:00</td>\n",
       "      <td>71</td>\n",
       "      <td>SCEL</td>\n",
       "      <td>SCIE</td>\n",
       "      <td>SKU</td>\n",
       "      <td>2017-03-30 10:50:00</td>\n",
       "      <td>71R</td>\n",
       "      <td>SCEL</td>\n",
       "      <td>SCIE</td>\n",
       "      <td>SKU</td>\n",
       "      <td>30</td>\n",
       "      <td>3</td>\n",
       "      <td>2017</td>\n",
       "      <td>Jueves</td>\n",
       "      <td>N</td>\n",
       "      <td>Sky Airline</td>\n",
       "      <td>Santiago</td>\n",
       "      <td>Concepcion</td>\n",
       "    </tr>\n",
       "    <tr>\n",
       "      <th>13907</th>\n",
       "      <td>2017-03-22 11:00:00</td>\n",
       "      <td>1071</td>\n",
       "      <td>SCEL</td>\n",
       "      <td>SCIE</td>\n",
       "      <td>SKU</td>\n",
       "      <td>2017-03-22 11:00:00</td>\n",
       "      <td>71R</td>\n",
       "      <td>SCEL</td>\n",
       "      <td>SCIE</td>\n",
       "      <td>SKU</td>\n",
       "      <td>22</td>\n",
       "      <td>3</td>\n",
       "      <td>2017</td>\n",
       "      <td>Miercoles</td>\n",
       "      <td>N</td>\n",
       "      <td>Sky Airline</td>\n",
       "      <td>Santiago</td>\n",
       "      <td>Concepcion</td>\n",
       "    </tr>\n",
       "    <tr>\n",
       "      <th>17055</th>\n",
       "      <td>2017-03-22 10:00:00</td>\n",
       "      <td>201</td>\n",
       "      <td>SCEL</td>\n",
       "      <td>SCIE</td>\n",
       "      <td>LXP</td>\n",
       "      <td>2017-03-22 11:50:00</td>\n",
       "      <td>201R</td>\n",
       "      <td>SCEL</td>\n",
       "      <td>SCIE</td>\n",
       "      <td>LXP</td>\n",
       "      <td>22</td>\n",
       "      <td>3</td>\n",
       "      <td>2017</td>\n",
       "      <td>Miercoles</td>\n",
       "      <td>N</td>\n",
       "      <td>Grupo LATAM</td>\n",
       "      <td>Santiago</td>\n",
       "      <td>Concepcion</td>\n",
       "    </tr>\n",
       "    <tr>\n",
       "      <th>19207</th>\n",
       "      <td>2017-04-25 09:00:00</td>\n",
       "      <td>71</td>\n",
       "      <td>SCEL</td>\n",
       "      <td>SCIE</td>\n",
       "      <td>SKU</td>\n",
       "      <td>2017-04-25 09:29:00</td>\n",
       "      <td>71R</td>\n",
       "      <td>SCEL</td>\n",
       "      <td>SCIE</td>\n",
       "      <td>SKU</td>\n",
       "      <td>25</td>\n",
       "      <td>4</td>\n",
       "      <td>2017</td>\n",
       "      <td>Martes</td>\n",
       "      <td>N</td>\n",
       "      <td>Sky Airline</td>\n",
       "      <td>Santiago</td>\n",
       "      <td>Concepcion</td>\n",
       "    </tr>\n",
       "    <tr>\n",
       "      <th>22167</th>\n",
       "      <td>2017-04-06 21:10:00</td>\n",
       "      <td>43</td>\n",
       "      <td>SCEL</td>\n",
       "      <td>SCIE</td>\n",
       "      <td>LAW</td>\n",
       "      <td>2017-04-06 21:24:00</td>\n",
       "      <td>43R</td>\n",
       "      <td>SCEL</td>\n",
       "      <td>SCIE</td>\n",
       "      <td>JMR</td>\n",
       "      <td>6</td>\n",
       "      <td>4</td>\n",
       "      <td>2017</td>\n",
       "      <td>Jueves</td>\n",
       "      <td>N</td>\n",
       "      <td>Latin American Wings</td>\n",
       "      <td>Santiago</td>\n",
       "      <td>Concepcion</td>\n",
       "    </tr>\n",
       "  </tbody>\n",
       "</table>\n",
       "</div>"
      ],
      "text/plain": [
       "                   Fecha-I Vlo-I Ori-I Des-I Emp-I              Fecha-O Vlo-O  \\\n",
       "13906  2017-03-30 10:30:00    71  SCEL  SCIE   SKU  2017-03-30 10:50:00   71R   \n",
       "13907  2017-03-22 11:00:00  1071  SCEL  SCIE   SKU  2017-03-22 11:00:00   71R   \n",
       "17055  2017-03-22 10:00:00   201  SCEL  SCIE   LXP  2017-03-22 11:50:00  201R   \n",
       "19207  2017-04-25 09:00:00    71  SCEL  SCIE   SKU  2017-04-25 09:29:00   71R   \n",
       "22167  2017-04-06 21:10:00    43  SCEL  SCIE   LAW  2017-04-06 21:24:00   43R   \n",
       "\n",
       "      Ori-O Des-O Emp-O  DIA  MES   AÑO     DIANOM TIPOVUELO  \\\n",
       "13906  SCEL  SCIE   SKU   30    3  2017     Jueves         N   \n",
       "13907  SCEL  SCIE   SKU   22    3  2017  Miercoles         N   \n",
       "17055  SCEL  SCIE   LXP   22    3  2017  Miercoles         N   \n",
       "19207  SCEL  SCIE   SKU   25    4  2017     Martes         N   \n",
       "22167  SCEL  SCIE   JMR    6    4  2017     Jueves         N   \n",
       "\n",
       "                      OPERA  SIGLAORI    SIGLADES  \n",
       "13906           Sky Airline  Santiago  Concepcion  \n",
       "13907           Sky Airline  Santiago  Concepcion  \n",
       "17055           Grupo LATAM  Santiago  Concepcion  \n",
       "19207           Sky Airline  Santiago  Concepcion  \n",
       "22167  Latin American Wings  Santiago  Concepcion  "
      ]
     },
     "execution_count": 6,
     "metadata": {},
     "output_type": "execute_result"
    }
   ],
   "source": [
    "df = data[data ['Vlo-O'].str.contains('[A-Za-z]', na=False)]  \n",
    "df.head()"
   ]
  },
  {
   "cell_type": "raw",
   "metadata": {},
   "source": [
    "Se observan números de vuelo con letras, las que voy a eliminar para convertir a entero. "
   ]
  },
  {
   "cell_type": "code",
   "execution_count": 7,
   "metadata": {},
   "outputs": [
    {
     "name": "stdout",
     "output_type": "stream",
     "text": [
      "Fecha-I      datetime64[ns]\n",
      "Vlo-I                 int32\n",
      "Ori-I                object\n",
      "Des-I                object\n",
      "Emp-I                object\n",
      "Fecha-O      datetime64[ns]\n",
      "Vlo-O                 int32\n",
      "Ori-O                object\n",
      "Des-O                object\n",
      "Emp-O                object\n",
      "DIA                   int64\n",
      "MES                   int64\n",
      "AÑO                   int64\n",
      "DIANOM               object\n",
      "TIPOVUELO            object\n",
      "OPERA                object\n",
      "SIGLAORI             object\n",
      "SIGLADES             object\n",
      "dtype: object\n"
     ]
    }
   ],
   "source": [
    "data['Vlo-I']=data['Vlo-I'].replace('[A-Za-z]', '', regex=True)\n",
    "data['Vlo-O']=data['Vlo-O'].replace('[A-Za-z]', '', regex=True)\n",
    "\n",
    "data['Vlo-O']=data['Vlo-O'].astype(float) # Tiene números con valores decimales\n",
    "data['Vlo-O']=data['Vlo-O'].astype(int)\n",
    "data['Vlo-I']=data['Vlo-I'].astype(int)\n",
    "\n",
    "#Convierto las fechas a datatime\n",
    "data['Fecha-I']=pd.to_datetime(data['Fecha-I'])\n",
    "data['Fecha-O']=pd.to_datetime(data['Fecha-O'])\n",
    "\n",
    "#data['DIANOM']=data['DIANOM'].astype('category')\n",
    "#data['SIGLADES']=data['SIGLADES'].astype('category')\n",
    "\n",
    "print(data.dtypes)"
   ]
  },
  {
   "cell_type": "markdown",
   "metadata": {},
   "source": [
    "Como los datos son del aeropuerto de Santiago de Chile, compruebo si las columnas **Ori-I**, **Ori-O** y **SIGLAORI** se refieren a la misma información. Reviso además si puedo realizar alguna conclusion parcial de los datos revisando los valores únicos por columnas."
   ]
  },
  {
   "cell_type": "code",
   "execution_count": 8,
   "metadata": {},
   "outputs": [
    {
     "data": {
      "text/plain": [
       "Fecha-I      53252\n",
       "Vlo-I          581\n",
       "Ori-I            1\n",
       "Des-I           64\n",
       "Emp-I           30\n",
       "Fecha-O      62774\n",
       "Vlo-O          595\n",
       "Ori-O            1\n",
       "Des-O           63\n",
       "Emp-O           32\n",
       "DIA             31\n",
       "MES             12\n",
       "AÑO              2\n",
       "DIANOM           7\n",
       "TIPOVUELO        2\n",
       "OPERA           23\n",
       "SIGLAORI         1\n",
       "SIGLADES        62\n",
       "dtype: int64"
      ]
     },
     "execution_count": 8,
     "metadata": {},
     "output_type": "execute_result"
    }
   ],
   "source": [
    "data.nunique()"
   ]
  },
  {
   "cell_type": "markdown",
   "metadata": {},
   "source": [
    "Lo primero que se observa es que las variables **Ori-I**, **Ori-O** y **SIGLAORI** contienen un único valor que corresponde a la ciudad de Santiago, por tanto manejan la misma información y estas columnas van a ser eliminadas. "
   ]
  },
  {
   "cell_type": "code",
   "execution_count": 9,
   "metadata": {},
   "outputs": [],
   "source": [
    "data.drop(['Ori-I','Ori-O', 'SIGLAORI'], axis=1, inplace=True)"
   ]
  },
  {
   "cell_type": "markdown",
   "metadata": {},
   "source": [
    " Reviso además si existe algún destino a Santiago, de no ser así estaríamos en presencia de operaciones de arribo. \n"
   ]
  },
  {
   "cell_type": "code",
   "execution_count": 10,
   "metadata": {},
   "outputs": [
    {
     "data": {
      "text/html": [
       "<div>\n",
       "<style scoped>\n",
       "    .dataframe tbody tr th:only-of-type {\n",
       "        vertical-align: middle;\n",
       "    }\n",
       "\n",
       "    .dataframe tbody tr th {\n",
       "        vertical-align: top;\n",
       "    }\n",
       "\n",
       "    .dataframe thead th {\n",
       "        text-align: right;\n",
       "    }\n",
       "</style>\n",
       "<table border=\"1\" class=\"dataframe\">\n",
       "  <thead>\n",
       "    <tr style=\"text-align: right;\">\n",
       "      <th></th>\n",
       "      <th>Fecha-I</th>\n",
       "      <th>Vlo-I</th>\n",
       "      <th>Des-I</th>\n",
       "      <th>Emp-I</th>\n",
       "      <th>Fecha-O</th>\n",
       "      <th>Vlo-O</th>\n",
       "      <th>Des-O</th>\n",
       "      <th>Emp-O</th>\n",
       "      <th>DIA</th>\n",
       "      <th>MES</th>\n",
       "      <th>AÑO</th>\n",
       "      <th>DIANOM</th>\n",
       "      <th>TIPOVUELO</th>\n",
       "      <th>OPERA</th>\n",
       "      <th>SIGLADES</th>\n",
       "    </tr>\n",
       "  </thead>\n",
       "  <tbody>\n",
       "  </tbody>\n",
       "</table>\n",
       "</div>"
      ],
      "text/plain": [
       "Empty DataFrame\n",
       "Columns: [Fecha-I, Vlo-I, Des-I, Emp-I, Fecha-O, Vlo-O, Des-O, Emp-O, DIA, MES, AÑO, DIANOM, TIPOVUELO, OPERA, SIGLADES]\n",
       "Index: []"
      ]
     },
     "execution_count": 10,
     "metadata": {},
     "output_type": "execute_result"
    }
   ],
   "source": [
    "data[(data['Des-O']==\"SCEL\")|(data['Des-I']==\"SCEL\")|(data['SIGLADES']==\"Santiago\")]"
   ]
  },
  {
   "cell_type": "markdown",
   "metadata": {},
   "source": [
    "No existen filas con destino Santiago, por lo que se puede concluir que los datos solamente corresponden a operaciones de despegue."
   ]
  },
  {
   "cell_type": "markdown",
   "metadata": {},
   "source": [
    "En los valores únicos se observa además que existen más vuelos en operaciones (Vlo-O: 866) que vuelos programados(Vlo-I:750) y menos destinos de operación(Des-O:63) que destinos programados (Des-I:64), lo que hace pensar que estos datos de los vuelos sufren cambios al operar. "
   ]
  },
  {
   "cell_type": "code",
   "execution_count": 11,
   "metadata": {},
   "outputs": [
    {
     "name": "stdout",
     "output_type": "stream",
     "text": [
      "   Des-I vs Des-O     %Dest  Vlo-I vs Vlo-O      %Vlo\n",
      "0              28  0.041052             102  0.149547\n"
     ]
    }
   ],
   "source": [
    "df=pd.DataFrame(data={'Des-I vs Des-O': [len(data[['Des-I', 'Des-O']][data['Des-I'] != data['Des-O']])],\n",
    "                      '%Dest':[(len(data[['Des-I', 'Des-O']][data['Des-I'] != data['Des-O']])/data.shape[0])*100],\n",
    "                      'Vlo-I vs Vlo-O':[len(data[['Vlo-I', 'Vlo-O']][data['Vlo-I'] != data['Vlo-O']])],\n",
    "                     '%Vlo':[(len(data[['Vlo-I', 'Vlo-O']][data['Vlo-I'] != data['Vlo-O']])/data.shape[0])*100],} )\n",
    "print(df)"
   ]
  },
  {
   "cell_type": "markdown",
   "metadata": {},
   "source": [
    "En este caso, en todo el dataset 28 vuelos sufren cambios en el destino, y 1850 en el número de vuelo que finalmente opera. Estos valores pueden o no influir en los atrasos, pero solo representan el 0.04% y 2.71% respectivamente del dataset.    \n"
   ]
  },
  {
   "cell_type": "markdown",
   "metadata": {},
   "source": [
    "A continuación genero un reporte mediante la funcion profile_report de pandas, para verificar las distribuciones de las variables y su correlación."
   ]
  },
  {
   "cell_type": "code",
   "execution_count": 12,
   "metadata": {},
   "outputs": [
    {
     "data": {
      "application/vnd.jupyter.widget-view+json": {
       "model_id": "b6ede761da4a47cc95e637d514de6b25",
       "version_major": 2,
       "version_minor": 0
      },
      "text/plain": [
       "HBox(children=(HTML(value='Summarize dataset'), FloatProgress(value=0.0, max=28.0), HTML(value='')))"
      ]
     },
     "metadata": {},
     "output_type": "display_data"
    },
    {
     "name": "stdout",
     "output_type": "stream",
     "text": [
      "\n"
     ]
    },
    {
     "data": {
      "application/vnd.jupyter.widget-view+json": {
       "model_id": "e02aa900c47d4fbcb2ad09ff3a8bf18b",
       "version_major": 2,
       "version_minor": 0
      },
      "text/plain": [
       "HBox(children=(HTML(value='Generate report structure'), FloatProgress(value=0.0, max=1.0), HTML(value='')))"
      ]
     },
     "metadata": {},
     "output_type": "display_data"
    },
    {
     "name": "stdout",
     "output_type": "stream",
     "text": [
      "\n"
     ]
    },
    {
     "data": {
      "application/vnd.jupyter.widget-view+json": {
       "model_id": "",
       "version_major": 2,
       "version_minor": 0
      },
      "text/plain": [
       "HBox(children=(HTML(value='Render widgets'), FloatProgress(value=0.0, max=1.0), HTML(value='')))"
      ]
     },
     "metadata": {},
     "output_type": "display_data"
    },
    {
     "data": {
      "application/vnd.jupyter.widget-view+json": {
       "model_id": "8004f6621ee24a36af9c3ff9509347b8",
       "version_major": 2,
       "version_minor": 0
      },
      "text/plain": [
       "VBox(children=(Tab(children=(Tab(children=(GridBox(children=(VBox(children=(GridspecLayout(children=(HTML(valu…"
      ]
     },
     "metadata": {},
     "output_type": "display_data"
    }
   ],
   "source": [
    "profile = ProfileReport(data, title=\"My Data Profile Report\" )\n",
    "profile.to_widgets()\n"
   ]
  },
  {
   "cell_type": "markdown",
   "metadata": {},
   "source": [
    "A partir del reporte generado se puede observar que las variables referidas a las fechas, tienen una distribución bastante uniforme, lo que da entender que durante todas las fechas, son similares la cantidad de vuelos que operan. Por otro lado según la frecuencia de  DIANOM y MES los dias con mayor cantidad de vuelos son los lunes, jueves y viernes. Los meses que mas vuelos operan corresponden a los períodos de vacaciones en Julio, Diciembre y Enero. Estas distribuciones tienen sentido y se corresponden con el fenómeno.\n",
    "\n",
    "Otras informaciones relevantes se observan en los diagramas de correlación. En el diagrama de Phik se observa una alta correlacion entre las variables Des-I, Des-O, SIGLADES,Emp-I, Emp-O, OPERA y TIPOVUELO. En nuestro caso por el tipo de algoritmo a utilizar para crear mi modelo solo tendría en cuenta las variables SIGLADES y OPERA. Las variables  DIANOM, DIA, MES y AÑO tienen una baja correlación. "
   ]
  },
  {
   "cell_type": "markdown",
   "metadata": {},
   "source": [
    "## Punto2 \n",
    "Genera las columnas adicionales y luego expórtelas en un archivo synthetic_features.csv \n",
    "- **temporada_alta** : 1 si Fecha-I está entre 15-Dic y 3-Mar, o 15-Jul y 31-Jul, o 11-Sep y 30-Sep, 0 si no.\n",
    "- **dif_min** : diferencia en minutos entre Fecha-O y Fecha-I .\n",
    "- **atraso_15** : 1 si dif_min > 15, 0 si no.\n",
    "- **periodo_dia** : mañana (entre 5:00 y 11:59), tarde (entre 12:00 y 18:59) y noche (entre 19:00 y 4:59), en base a\n",
    "Fecha-I ."
   ]
  },
  {
   "cell_type": "code",
   "execution_count": 13,
   "metadata": {},
   "outputs": [],
   "source": [
    "import datetime\n",
    "\n",
    "def temporada_alta(row):\n",
    "    anno = row['Fecha-I'].year\n",
    "    intervalo_a_ini = datetime.datetime(anno,12,15)\n",
    "    intervalo_a_fin = datetime.datetime(anno,3,3)\n",
    "    intervalo_b_ini = datetime.datetime(anno,7,15)\n",
    "    intervalo_b_fin = datetime.datetime(anno,7,31)\n",
    "    intervalo_c_ini = datetime.datetime(anno,9,11)\n",
    "    intervalo_c_fin = datetime.datetime(anno,9,30)\n",
    "    if ((intervalo_a_ini <= row['Fecha-I'] <= intervalo_a_fin) or \n",
    "    (intervalo_b_ini <= row['Fecha-I'] <= intervalo_b_fin)\n",
    "    or (intervalo_c_ini <= row['Fecha-I'] <= intervalo_c_fin)) :\n",
    "        return 1\n",
    "    return 0\n",
    "\n",
    "def dif_min(row):\n",
    "    diff = (row['Fecha-O'] - row['Fecha-I']).total_seconds()/60\n",
    "    return diff\n",
    "\n",
    "def atraso_15(row):\n",
    "    if (row['dif_min'] > 15):\n",
    "        return 1\n",
    "    return 0\n",
    "\n",
    "def periodo_dia(row):\n",
    "    intervalo_a_ini = datetime.time(5,0)\n",
    "    intervalo_a_fin = datetime.time(11,59)\n",
    "    intervalo_b_ini = datetime.time(12,0)\n",
    "    intervalo_b_fin = datetime.time(18,59)\n",
    "    if (intervalo_a_ini <= row['Fecha-I'].time() <= intervalo_a_fin):\n",
    "        return \"mañana\"\n",
    "    elif (intervalo_b_ini <= row['Fecha-I'].time() <= intervalo_b_fin):\n",
    "        return \"tarde\"\n",
    "    return \"noche\"\n",
    "        \n",
    "data['temporada_alta'] = data.apply(temporada_alta, axis=1)\n",
    "data['dif_min'] = data.apply(dif_min, axis=1)\n",
    "data['atraso_15'] = data.apply(atraso_15, axis=1)\n",
    "data['periodo_dia'] = data.apply(periodo_dia, axis=1)\n",
    "df = data[['temporada_alta','dif_min','atraso_15','periodo_dia' ]]\n",
    "df.to_csv(\"synthetic_features.csv\")\n"
   ]
  },
  {
   "cell_type": "markdown",
   "metadata": {},
   "source": [
    "## Punto 3\n",
    "¿Cómo se compone la tasa de atraso por destino, aerolínea, mes del año, día de la semana, temporada, tipo de\n",
    "vuelo? ¿Qué variables esperarías que más influyeran en predecir atrasos?\n",
    "\n",
    "Para ello se implementa una función *tasa_dataframe* que generaliza el calculo de las tasas. Luego se obtienen los gráficos de barra por cada categoría de las variables de interés, en función del porcentage de atrasos.\n"
   ]
  },
  {
   "cell_type": "code",
   "execution_count": 14,
   "metadata": {},
   "outputs": [],
   "source": [
    "def tasa_dataframe(columna):\n",
    "    dest_df = data.groupby(columna)\n",
    "    atrasos_summary = []\n",
    "    \n",
    "    for (dest,grupo) in dest_df:\n",
    "        row = {}\n",
    "        conteo_s = grupo['atraso_15'].value_counts()\n",
    "        row[columna] = dest\n",
    "        row['atraso'] = 0  \n",
    "        row['en_tiempo'] = 0\n",
    "        \n",
    "        if 0 in conteo_s.index:\n",
    "            row['en_tiempo'] = conteo_s[0]\n",
    "            \n",
    "        if 1 in conteo_s.index:\n",
    "            row['atraso'] = conteo_s[1]\n",
    "            \n",
    "        atrasos_summary.append(row)\n",
    "    \n",
    "    tasa_df = pd.DataFrame(atrasos_summary)\n",
    "    return tasa_df"
   ]
  },
  {
   "cell_type": "markdown",
   "metadata": {},
   "source": [
    "### Tasa de atraso por destinos y aerolineas\n",
    "\n",
    "En ambas gráficas se observa una alta variación en las tasas de atrasos en diferentes destinos y aerolineas. Por tanto estas variables pueden ser útiles para predecir atrasos. "
   ]
  },
  {
   "cell_type": "code",
   "execution_count": 15,
   "metadata": {},
   "outputs": [
    {
     "data": {
      "image/png": "[encoded data removed]",
      "text/plain": [
       "<Figure size 1440x576 with 2 Axes>"
      ]
     },
     "metadata": {
      "needs_background": "light"
     },
     "output_type": "display_data"
    }
   ],
   "source": [
    "tasa_df = tasa_dataframe('SIGLADES')\n",
    "\n",
    "x = tasa_df['SIGLADES']\n",
    "y1 = tasa_df['atraso']\n",
    "y2 = tasa_df['en_tiempo']\n",
    "\n",
    "tasa=y1/(y1+y2)*100\n",
    "\n",
    "tasa_df1 = tasa_dataframe('OPERA')\n",
    "z = tasa_df1['OPERA']\n",
    "y3 = tasa_df1['atraso']\n",
    "y4 = tasa_df1['en_tiempo']\n",
    "tasa2=y3/(y3+y4)*100\n",
    "\n",
    "# plot \n",
    "plt.figure(figsize=(20,8))\n",
    "plt.subplot(221)\n",
    "plt.xticks(rotation=90)\n",
    "plt.bar(x, tasa,  color='b')\n",
    "plt.ylabel('Tasa de atrasos en %')\n",
    "plt.title('Tasa de atraso por destino de operación.')\n",
    "\n",
    "plt.subplot(222)\n",
    "plt.xticks(rotation=90)\n",
    "plt.bar(z, tasa2,  color='b')\n",
    "plt.ylabel('Tasa de atrasos en %')\n",
    "plt.title('Tasa de atraso por aerolínea de operación.')\n",
    "plt.show()"
   ]
  },
  {
   "cell_type": "markdown",
   "metadata": {},
   "source": [
    "### Tasa de atraso por mes del año y día de la semana\n",
    "\n",
    "En el gráfico *tasa de atraso por mes* se observa que los meses que mayores atrasos presentan son los meses de vacaciones Julio y Diciembre, el resto de los meses se mantiene variable. A simple vista, se puede decir que la variable MES no presenta una alta correlación con la tasa de atrasos, por lo que puede ser relevante para la predicción. \n",
    "\n",
    "El gráfico *tasa de atraso por día de la semana* presenta una menor variabilidad, la diferencia entre los días con mayores atrasos no es tan relevante respecto al resto de los días. Esta variable tendría un menor interés en la predición. "
   ]
  },
  {
   "cell_type": "code",
   "execution_count": 16,
   "metadata": {},
   "outputs": [
    {
     "data": {
      "image/png": "[encoded data removed]",
      "text/plain": [
       "<Figure size 1440x216 with 2 Axes>"
      ]
     },
     "metadata": {
      "needs_background": "light"
     },
     "output_type": "display_data"
    }
   ],
   "source": [
    "tasa_df = tasa_dataframe('MES')\n",
    "x = tasa_df['MES']\n",
    "y1 = tasa_df['atraso']\n",
    "y2 = tasa_df['en_tiempo']\n",
    "tasa=y1/(y1+y2)*100\n",
    "\n",
    "tasa_df1 = tasa_dataframe('DIANOM')\n",
    "z = tasa_df1['DIANOM']\n",
    "y3 = tasa_df1['atraso']\n",
    "y4 = tasa_df1['en_tiempo']\n",
    "tasa2=y3/(y3+y4)*100\n",
    "\n",
    "# plot \n",
    "plt.figure(figsize=(20, 3))\n",
    "plt.subplot(121)\n",
    "plt.xticks(rotation=90)\n",
    "plt.bar(x, tasa,  color='b')\n",
    "plt.ylabel('Tasa de atrasos en %')\n",
    "plt.title('Tasa de atraso por mes.')\n",
    "\n",
    "plt.subplot(122)\n",
    "plt.xticks(rotation=90)\n",
    "plt.bar(z, tasa2,  color='b')\n",
    "plt.ylabel('Tasa de atrasos en %')\n",
    "plt.title('Tasa de atraso por día de la semana.')\n",
    "plt.show()"
   ]
  },
  {
   "cell_type": "markdown",
   "metadata": {},
   "source": [
    "### Tasa de atraso por temporada y tipo de vuelo\n",
    "\n",
    "En ambos gráficos se observa una leve variación en las tasas de atraso. Estas dos variables **temporada_alta** y **TIPOVUELO** pueden no ser de interés para la predicción, pero no se pueden descartar a priori. "
   ]
  },
  {
   "cell_type": "code",
   "execution_count": 17,
   "metadata": {},
   "outputs": [
    {
     "data": {
      "image/png": "[encoded data removed]",
      "text/plain": [
       "<Figure size 1080x216 with 2 Axes>"
      ]
     },
     "metadata": {
      "needs_background": "light"
     },
     "output_type": "display_data"
    }
   ],
   "source": [
    "tasa_df = tasa_dataframe('temporada_alta')\n",
    "\n",
    "x = tasa_df['temporada_alta'].astype(str)\n",
    "y1 = tasa_df['atraso']\n",
    "y2 = tasa_df['en_tiempo']\n",
    "tasa=y1/(y1+y2)*100\n",
    "\n",
    "tasa_df1 = tasa_dataframe('TIPOVUELO')\n",
    "z = tasa_df1['TIPOVUELO']\n",
    "y3 = tasa_df1['atraso']\n",
    "y4 = tasa_df1['en_tiempo']\n",
    "tasa1=y3/(y3+y4)*100\n",
    "\n",
    "# plots\n",
    "plt.figure(figsize=(15, 3))\n",
    "plt.subplot(121)\n",
    "plt.bar(x, tasa,  color='b')\n",
    "plt.ylabel('Tasa de atrasos en %')\n",
    "plt.title('Tasa de atraso por temporada.')\n",
    "\n",
    "plt.subplot(122)\n",
    "plt.bar(z, tasa1,  color='b')\n",
    "plt.ylabel('Tasa de atrasos en %')\n",
    "plt.title('Tasa de atraso por tipo de vuelo.')\n",
    "plt.show()\n"
   ]
  },
  {
   "cell_type": "markdown",
   "metadata": {},
   "source": [
    "## Punto 4\n",
    "\n",
    "Entrena uno o varios modelos (usando el/los algoritmo(s) que prefieras) para estimar la probabilidad de atraso de un\n",
    "vuelo. Siéntete libre de generar variables adicionales y/o complementar con variables externas.\n",
    "\n",
    "Primero reviso la variable objetivo atraso_15, me doy cuenta que hay un desbalance en las etiquetas de clase, ya que son  68206 filas y solamente 12614 son de la clase minoritaria 1, que representa el 18.49 de las muestras. \n",
    "\n",
    "Según las variables que tengo, y los resultados del análisis descriptivo solamente me quedo con las variables 'Vlo-O','periodo_dia','DIANOM','MES'y 'SIGLADES'. Además agrego una nueva variable llamada *flujo* que guarda la cantidad de vuelos por fecha."
   ]
  },
  {
   "cell_type": "code",
   "execution_count": 18,
   "metadata": {},
   "outputs": [],
   "source": [
    "# Se construye a variable flujo \n",
    "\n",
    "def getDate(row):\n",
    "    return row['Fecha-O'].date()\n",
    "\n",
    "data['fecha'] = data.apply(getDate, axis=1)\n",
    "flujo_df = data.groupby('fecha').size().reset_index(name='flujo')\n",
    "   \n",
    "new_data = pd.merge(data, flujo_df, how='inner', left_on=['fecha'], right_on=['fecha'])\n",
    "new_data.reindex(data.index)\n",
    "\n",
    "data = new_data.copy()\n",
    "\n",
    "#Selecciono las variables predictoras\n",
    "df=data[['flujo','Vlo-O','periodo_dia','DIANOM','MES','SIGLADES','atraso_15']]\n",
    "\n",
    "df['MES']=df['MES'].astype(object)\n",
    "df['Vlo-O']=df['Vlo-O'].astype(object)\n",
    "df['periodo_dia']=df['periodo_dia'].astype(object)"
   ]
  },
  {
   "cell_type": "markdown",
   "metadata": {},
   "source": [
    "Se preparan los datos y se divide el conjunto en 60% de entrenamiento, 20% de validación  y 20% para prueba. Además se transforman los datos categóricos o nominales mediante el método OneHotEncoder. "
   ]
  },
  {
   "cell_type": "code",
   "execution_count": 19,
   "metadata": {},
   "outputs": [],
   "source": [
    "#### Preparando el dataset\n",
    "\n",
    "from sklearn.model_selection import train_test_split\n",
    "from sklearn.preprocessing import OneHotEncoder\n",
    "\n",
    "X = df.iloc[:,:-1]\n",
    "y = df['atraso_15']\n",
    "\n",
    "X_trainfull, X_test, y_trainfull, y_test = train_test_split(X, y, test_size=0.20, random_state=42, stratify=y)\n",
    "X_train, X_val, y_train, y_val = train_test_split(X_trainfull, y_trainfull, test_size=0.20, random_state=42, stratify=y_trainfull)\n",
    "\n",
    "object_cols = [col for col in X.columns if X[col].dtype == \"object\"]\n",
    "\n",
    "# Apply one-hot encoder to each column with categorical data\n",
    "OH_encoder = OneHotEncoder(handle_unknown='ignore', sparse=False)\n",
    "OH_cols_train = pd.DataFrame(OH_encoder.fit_transform(X_train[object_cols]))\n",
    "OH_cols_val = pd.DataFrame(OH_encoder.transform(X_val[object_cols]))\n",
    "OH_cols_test = pd.DataFrame(OH_encoder.transform(X_test[object_cols]))\n",
    "\n",
    "# One-hot encoding removed index; put it back\n",
    "OH_cols_train.index = X_train.index\n",
    "OH_cols_val.index = X_val.index\n",
    "OH_cols_test.index = X_test.index\n",
    "\n",
    "# Remove categorical columns (will replace with one-hot encoding)\n",
    "num_X_train = X_train.drop(object_cols, axis=1)\n",
    "num_X_val = X_val.drop(object_cols, axis=1)\n",
    "num_X_test = X_test.drop(object_cols, axis=1)\n",
    "\n",
    "# Add one-hot encoded columns to numerical features\n",
    "OH_X_train = pd.concat([num_X_train, OH_cols_train], axis=1)\n",
    "OH_X_val = pd.concat([num_X_val, OH_cols_val], axis=1)\n",
    "OH_X_test = pd.concat([num_X_test, OH_cols_test], axis=1)\n",
    "\n"
   ]
  },
  {
   "cell_type": "markdown",
   "metadata": {},
   "source": [
    "Como estamos en presencia de un problema de predicción de la probabilidad de que ocurra un evento, se construye un modelo de regresión logística y teniendo en cuenta hay un ligero desbalance entre las clases aplico pesos a cada una en función de lograr una mejor performance. "
   ]
  },
  {
   "cell_type": "code",
   "execution_count": 20,
   "metadata": {},
   "outputs": [],
   "source": [
    "##### Defino el modelo\n",
    "\n",
    "from sklearn.linear_model import LogisticRegression\n",
    "reg = LogisticRegression(max_iter=10000,random_state=42,class_weight={0:1, 1:4.0} )\n",
    "reg.fit(OH_X_train, y_train)\n",
    "y_pred = reg.predict(OH_X_val)"
   ]
  },
  {
   "cell_type": "markdown",
   "metadata": {},
   "source": [
    "## Punto 5\n",
    "\n",
    "Evalúa tu modelo. ¿Qué performance tiene? ¿Qué métricas usaste para evaluar esa performance y por qué? ¿Por qué\n",
    "elegiste ese algoritmo en particular? \n",
    "\n",
    "Se utilizan las métricas curva ROC, accuracy, Precision, Recall y una matriz de confusión para visualizar la tasa de aciertos. Me fijo principalmente en la sensibilidad(recall) por que interesa conocer la capacidad del modelo para predecir  los casos de la clase positiva(1)"
   ]
  },
  {
   "cell_type": "code",
   "execution_count": 21,
   "metadata": {},
   "outputs": [
    {
     "name": "stdout",
     "output_type": "stream",
     "text": [
      "Entrenamiento:\n",
      "Confusion Matrix: \n",
      "[[6383 2512]\n",
      " [ 851 1167]]\n",
      "AUC train: 0.71\n",
      "              precision    recall  f1-score   support\n",
      "\n",
      "           0       0.88      0.72      0.79      8895\n",
      "           1       0.32      0.58      0.41      2018\n",
      "\n",
      "    accuracy                           0.69     10913\n",
      "   macro avg       0.60      0.65      0.60     10913\n",
      "weighted avg       0.78      0.69      0.72     10913\n",
      "\n",
      "Prueba:\n",
      "Confusion Matrix: \n",
      "[[8012 3107]\n",
      " [1084 1439]]\n",
      "AUC test: 0.7\n",
      "              precision    recall  f1-score   support\n",
      "\n",
      "           0       0.88      0.72      0.79     11119\n",
      "           1       0.32      0.57      0.41      2523\n",
      "\n",
      "    accuracy                           0.69     13642\n",
      "   macro avg       0.60      0.65      0.60     13642\n",
      "weighted avg       0.78      0.69      0.72     13642\n",
      "\n"
     ]
    }
   ],
   "source": [
    "### 4. Model Evaluation  ###\n",
    "from sklearn import metrics\n",
    "import matplotlib.pyplot as plt\n",
    "from sklearn.metrics import confusion_matrix\n",
    "\n",
    "print(\"Entrenamiento:\")\n",
    "print(f'Confusion Matrix: \\n{confusion_matrix(y_val, y_pred) }')\n",
    "\n",
    "y_pred_proba1 = reg.predict_proba(OH_X_val)[:,1]\n",
    "auc = metrics.roc_auc_score(y_val, y_pred_proba1)\n",
    "print(\"AUC train:\", round(auc,2))\n",
    "\n",
    "print(metrics.classification_report(y_val, y_pred))\n",
    "\n",
    "\n",
    "print(\"Prueba:\")\n",
    "\n",
    "y_pred_proba = reg.predict_proba(OH_X_test)[:,1]\n",
    "y_pred_test = reg.predict(OH_X_test)\n",
    "                             \n",
    "print(f'Confusion Matrix: \\n{confusion_matrix(y_test, y_pred_test)}')\n",
    "auc = metrics.roc_auc_score(y_test, y_pred_proba)\n",
    "\n",
    "print(\"AUC test:\", round(auc,2))\n",
    "                             \n",
    "print(metrics.classification_report(y_test, y_pred_test))\n",
    "\n"
   ]
  },
  {
   "cell_type": "markdown",
   "metadata": {},
   "source": [
    "Como se observa anteriormente la exactitud(accuracy) del modelo en el entrenamiento y la prueba es de 0.69, lo cual a pesar de ser un valor bajo demuestra que no existe sobreentrenamiento(overffiting). Sin embargo para el tipo de problema que estamos trabajando es conveniente enfocarse en la métrica curva ROC, que muestra el rendimiento del modelo en todos los umbrales de clasificación. Y esta métrica tiene un valor de 0.71 en el entrenamiento y 0.7 en la prueba. \n",
    "\n",
    "La precision del modelo para la clase negativa(0) es de 0.88 y 0.32 para la clase positiva(1), esto implica que la calidad de la predicción para la clase mayoritaria es mejor que para la clase minoritaria, y el recll se coporta similar aunque un poco mejor en la clase minaritaria respecto a la precision. Podemos confirmar lo anterior revisando la matriz de confusión donde solo fueron correctamente clasificados 1439 items de la clase positiva. \n",
    "\n",
    "De aquí se puede decir que el  modelo solo puede predecir con las variables seleccionadas el 0.57% de los casos como atrasos. Lo cual se puede mejorar para nuestro problema. \n",
    "\n",
    "¿Qué variables son las que más influyen en la predicción? ¿Cómo podrías mejorar la performance?\n",
    "\n",
    "Luego ajustar el modelo con variables variables, las que mas influyeron son Vlo-O, MES, periodo_dia y flujo. Para mejorar la performance se puede hacer ingeniería de features para encontrar nuevas variables a partir de las existentes  o combinarlas por ejemplo , y agregar otras externas como el clima en aeropuerto, fallas tecnicas o ciclo de mantenimiento del avion. \n",
    "\n"
   ]
  }
 ],
 "metadata": {
  "kernelspec": {
   "display_name": "Python 3",
   "language": "python",
   "name": "python3"
  },
  "language_info": {
   "codemirror_mode": {
    "name": "ipython",
    "version": 3
   },
   "file_extension": ".py",
   "mimetype": "text/x-python",
   "name": "python",
   "nbconvert_exporter": "python",
   "pygments_lexer": "ipython3",
   "version": "3.8.5"
  }
 },
 "nbformat": 4,
 "nbformat_minor": 4
}
